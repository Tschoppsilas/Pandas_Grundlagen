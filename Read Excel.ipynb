{
 "cells": [
  {
   "cell_type": "code",
   "id": "initial_id",
   "metadata": {
    "collapsed": true,
    "ExecuteTime": {
     "end_time": "2025-09-12T08:57:23.926812Z",
     "start_time": "2025-09-12T08:57:23.921573Z"
    }
   },
   "source": "import pandas as pd",
   "outputs": [],
   "execution_count": 5
  },
  {
   "metadata": {},
   "cell_type": "markdown",
   "source": "# Excel mit verschiedenen sheets einlesen",
   "id": "525fb45d6cf444c"
  },
  {
   "metadata": {
    "ExecuteTime": {
     "end_time": "2025-09-12T09:01:31.053297Z",
     "start_time": "2025-09-12T09:01:30.856868Z"
    }
   },
   "cell_type": "code",
   "source": [
    "df = pd.read_excel(\n",
    "    'store_data.xlsx',\n",
    "    sheet_name='purchases', #liest das sheet purchases ein\n",
    ")"
   ],
   "id": "c97630549cf01f10",
   "outputs": [],
   "execution_count": 16
  },
  {
   "metadata": {
    "ExecuteTime": {
     "end_time": "2025-09-12T09:01:32.558936Z",
     "start_time": "2025-09-12T09:01:32.547223Z"
    }
   },
   "cell_type": "code",
   "source": "df.head()",
   "id": "c7e0e29434c1aeef",
   "outputs": [
    {
     "data": {
      "text/plain": [
       "            Unnamed: 0   Unnamed: 1 PRODUCT INFORMATION           Unnamed: 3  \\\n",
       "0     Date of Purchase  Customer ID          Product ID  Product Description   \n",
       "1  2021-10-11 00:00:00         4576                  11         Gray Sweater   \n",
       "2  2020-11-13 00:00:00         9488                  32        Running Shoes   \n",
       "3  2020-08-20 00:00:00         7265                   3           Blue Jeans   \n",
       "4  2021-04-07 00:00:00         8555                  39           Polo Shirt   \n",
       "\n",
       "  Unnamed: 4 Unnamed: 5  \n",
       "0       Cost     Online  \n",
       "1      59.99         No  \n",
       "2      49.99        Yes  \n",
       "3      49.99        Yes  \n",
       "4      29.99         No  "
      ],
      "text/html": [
       "<div>\n",
       "<style scoped>\n",
       "    .dataframe tbody tr th:only-of-type {\n",
       "        vertical-align: middle;\n",
       "    }\n",
       "\n",
       "    .dataframe tbody tr th {\n",
       "        vertical-align: top;\n",
       "    }\n",
       "\n",
       "    .dataframe thead th {\n",
       "        text-align: right;\n",
       "    }\n",
       "</style>\n",
       "<table border=\"1\" class=\"dataframe\">\n",
       "  <thead>\n",
       "    <tr style=\"text-align: right;\">\n",
       "      <th></th>\n",
       "      <th>Unnamed: 0</th>\n",
       "      <th>Unnamed: 1</th>\n",
       "      <th>PRODUCT INFORMATION</th>\n",
       "      <th>Unnamed: 3</th>\n",
       "      <th>Unnamed: 4</th>\n",
       "      <th>Unnamed: 5</th>\n",
       "    </tr>\n",
       "  </thead>\n",
       "  <tbody>\n",
       "    <tr>\n",
       "      <th>0</th>\n",
       "      <td>Date of Purchase</td>\n",
       "      <td>Customer ID</td>\n",
       "      <td>Product ID</td>\n",
       "      <td>Product Description</td>\n",
       "      <td>Cost</td>\n",
       "      <td>Online</td>\n",
       "    </tr>\n",
       "    <tr>\n",
       "      <th>1</th>\n",
       "      <td>2021-10-11 00:00:00</td>\n",
       "      <td>4576</td>\n",
       "      <td>11</td>\n",
       "      <td>Gray Sweater</td>\n",
       "      <td>59.99</td>\n",
       "      <td>No</td>\n",
       "    </tr>\n",
       "    <tr>\n",
       "      <th>2</th>\n",
       "      <td>2020-11-13 00:00:00</td>\n",
       "      <td>9488</td>\n",
       "      <td>32</td>\n",
       "      <td>Running Shoes</td>\n",
       "      <td>49.99</td>\n",
       "      <td>Yes</td>\n",
       "    </tr>\n",
       "    <tr>\n",
       "      <th>3</th>\n",
       "      <td>2020-08-20 00:00:00</td>\n",
       "      <td>7265</td>\n",
       "      <td>3</td>\n",
       "      <td>Blue Jeans</td>\n",
       "      <td>49.99</td>\n",
       "      <td>Yes</td>\n",
       "    </tr>\n",
       "    <tr>\n",
       "      <th>4</th>\n",
       "      <td>2021-04-07 00:00:00</td>\n",
       "      <td>8555</td>\n",
       "      <td>39</td>\n",
       "      <td>Polo Shirt</td>\n",
       "      <td>29.99</td>\n",
       "      <td>No</td>\n",
       "    </tr>\n",
       "  </tbody>\n",
       "</table>\n",
       "</div>"
      ]
     },
     "execution_count": 17,
     "metadata": {},
     "output_type": "execute_result"
    }
   ],
   "execution_count": 17
  },
  {
   "metadata": {},
   "cell_type": "markdown",
   "source": [
    "# Excel einlesen vom URL\n",
    "Der normale Link sieht so aus: \"https://github.com/kimfetti/Videos/blob/master/Pandas_Tips/data/store_data.xlsx\"\n",
    "Ich musste hier am ende des Links \"?raw=True\" hinzufügen, sonst kann es pandas nicht einlesen"
   ],
   "id": "b2f9b44971eb61c4"
  },
  {
   "metadata": {
    "ExecuteTime": {
     "end_time": "2025-09-12T09:04:35.725178Z",
     "start_time": "2025-09-12T09:04:34.904925Z"
    }
   },
   "cell_type": "code",
   "source": [
    "df_url = pd.read_excel(\n",
    "    'https://github.com/kimfetti/Videos/blob/master/Pandas_Tips/data/store_data.xlsx?raw=True',\n",
    "    sheet_name='purchases'\n",
    ")"
   ],
   "id": "af923b0c77555112",
   "outputs": [],
   "execution_count": 23
  },
  {
   "metadata": {},
   "cell_type": "markdown",
   "source": "# Zeilen überspringen",
   "id": "384c977b3e825e0"
  },
  {
   "metadata": {
    "ExecuteTime": {
     "end_time": "2025-09-12T09:10:07.269764Z",
     "start_time": "2025-09-12T09:10:07.094232Z"
    }
   },
   "cell_type": "code",
   "source": [
    "df_1 = pd.read_excel(\n",
    "    'store_data.xlsx',\n",
    "    sheet_name='purchases', #liest das sheet purchases ein\n",
    "    skiprows=1, #anzahl Zeilen überspringen\n",
    ")"
   ],
   "id": "1e33e593f0c5341a",
   "outputs": [],
   "execution_count": 28
  },
  {
   "metadata": {
    "ExecuteTime": {
     "end_time": "2025-09-12T09:08:38.129438Z",
     "start_time": "2025-09-12T09:08:38.114025Z"
    }
   },
   "cell_type": "code",
   "source": "df_1.head()",
   "id": "e6770154e74a5e53",
   "outputs": [
    {
     "data": {
      "text/plain": [
       "      Date of Purchase  Customer ID  Product ID Product Description   Cost  \\\n",
       "0  2021-10-11 00:00:00       4576.0        11.0        Gray Sweater  59.99   \n",
       "1  2020-11-13 00:00:00       9488.0        32.0       Running Shoes  49.99   \n",
       "2  2020-08-20 00:00:00       7265.0         3.0          Blue Jeans  49.99   \n",
       "3  2021-04-07 00:00:00       8555.0        39.0          Polo Shirt  29.99   \n",
       "4  2022-01-10 00:00:00       7023.0        44.0          Sweatshirt  49.99   \n",
       "\n",
       "  Online  \n",
       "0     No  \n",
       "1    Yes  \n",
       "2    Yes  \n",
       "3     No  \n",
       "4     No  "
      ],
      "text/html": [
       "<div>\n",
       "<style scoped>\n",
       "    .dataframe tbody tr th:only-of-type {\n",
       "        vertical-align: middle;\n",
       "    }\n",
       "\n",
       "    .dataframe tbody tr th {\n",
       "        vertical-align: top;\n",
       "    }\n",
       "\n",
       "    .dataframe thead th {\n",
       "        text-align: right;\n",
       "    }\n",
       "</style>\n",
       "<table border=\"1\" class=\"dataframe\">\n",
       "  <thead>\n",
       "    <tr style=\"text-align: right;\">\n",
       "      <th></th>\n",
       "      <th>Date of Purchase</th>\n",
       "      <th>Customer ID</th>\n",
       "      <th>Product ID</th>\n",
       "      <th>Product Description</th>\n",
       "      <th>Cost</th>\n",
       "      <th>Online</th>\n",
       "    </tr>\n",
       "  </thead>\n",
       "  <tbody>\n",
       "    <tr>\n",
       "      <th>0</th>\n",
       "      <td>2021-10-11 00:00:00</td>\n",
       "      <td>4576.0</td>\n",
       "      <td>11.0</td>\n",
       "      <td>Gray Sweater</td>\n",
       "      <td>59.99</td>\n",
       "      <td>No</td>\n",
       "    </tr>\n",
       "    <tr>\n",
       "      <th>1</th>\n",
       "      <td>2020-11-13 00:00:00</td>\n",
       "      <td>9488.0</td>\n",
       "      <td>32.0</td>\n",
       "      <td>Running Shoes</td>\n",
       "      <td>49.99</td>\n",
       "      <td>Yes</td>\n",
       "    </tr>\n",
       "    <tr>\n",
       "      <th>2</th>\n",
       "      <td>2020-08-20 00:00:00</td>\n",
       "      <td>7265.0</td>\n",
       "      <td>3.0</td>\n",
       "      <td>Blue Jeans</td>\n",
       "      <td>49.99</td>\n",
       "      <td>Yes</td>\n",
       "    </tr>\n",
       "    <tr>\n",
       "      <th>3</th>\n",
       "      <td>2021-04-07 00:00:00</td>\n",
       "      <td>8555.0</td>\n",
       "      <td>39.0</td>\n",
       "      <td>Polo Shirt</td>\n",
       "      <td>29.99</td>\n",
       "      <td>No</td>\n",
       "    </tr>\n",
       "    <tr>\n",
       "      <th>4</th>\n",
       "      <td>2022-01-10 00:00:00</td>\n",
       "      <td>7023.0</td>\n",
       "      <td>44.0</td>\n",
       "      <td>Sweatshirt</td>\n",
       "      <td>49.99</td>\n",
       "      <td>No</td>\n",
       "    </tr>\n",
       "  </tbody>\n",
       "</table>\n",
       "</div>"
      ]
     },
     "execution_count": 26,
     "metadata": {},
     "output_type": "execute_result"
    }
   ],
   "execution_count": 26
  },
  {
   "metadata": {},
   "cell_type": "markdown",
   "source": "# letzte spalten überspringen",
   "id": "5b84b1e1f70dc46f"
  },
  {
   "metadata": {
    "ExecuteTime": {
     "end_time": "2025-09-12T09:10:19.394809Z",
     "start_time": "2025-09-12T09:10:19.384905Z"
    }
   },
   "cell_type": "code",
   "source": "df_1.tail()",
   "id": "f25beda903e73393",
   "outputs": [
    {
     "data": {
      "text/plain": [
       "         Date of Purchase  Customer ID  Product ID Product Description  \\\n",
       "1814  2022-11-02 00:00:00       9176.0        54.0        Casual Dress   \n",
       "1815  2023-05-12 00:00:00       8588.0        30.0          Maxi Skirt   \n",
       "1816  2021-12-28 00:00:00       1892.0        27.0      Leather Jacket   \n",
       "1817  2022-12-25 00:00:00       7437.0        24.0        Cargo Shorts   \n",
       "1818                TOTAL          NaN         NaN                 NaN   \n",
       "\n",
       "          Cost Online  \n",
       "1814     69.99     No  \n",
       "1815     39.99     No  \n",
       "1816  1,119.99    Yes  \n",
       "1817     22.99     No  \n",
       "1818  95545.33    NaN  "
      ],
      "text/html": [
       "<div>\n",
       "<style scoped>\n",
       "    .dataframe tbody tr th:only-of-type {\n",
       "        vertical-align: middle;\n",
       "    }\n",
       "\n",
       "    .dataframe tbody tr th {\n",
       "        vertical-align: top;\n",
       "    }\n",
       "\n",
       "    .dataframe thead th {\n",
       "        text-align: right;\n",
       "    }\n",
       "</style>\n",
       "<table border=\"1\" class=\"dataframe\">\n",
       "  <thead>\n",
       "    <tr style=\"text-align: right;\">\n",
       "      <th></th>\n",
       "      <th>Date of Purchase</th>\n",
       "      <th>Customer ID</th>\n",
       "      <th>Product ID</th>\n",
       "      <th>Product Description</th>\n",
       "      <th>Cost</th>\n",
       "      <th>Online</th>\n",
       "    </tr>\n",
       "  </thead>\n",
       "  <tbody>\n",
       "    <tr>\n",
       "      <th>1814</th>\n",
       "      <td>2022-11-02 00:00:00</td>\n",
       "      <td>9176.0</td>\n",
       "      <td>54.0</td>\n",
       "      <td>Casual Dress</td>\n",
       "      <td>69.99</td>\n",
       "      <td>No</td>\n",
       "    </tr>\n",
       "    <tr>\n",
       "      <th>1815</th>\n",
       "      <td>2023-05-12 00:00:00</td>\n",
       "      <td>8588.0</td>\n",
       "      <td>30.0</td>\n",
       "      <td>Maxi Skirt</td>\n",
       "      <td>39.99</td>\n",
       "      <td>No</td>\n",
       "    </tr>\n",
       "    <tr>\n",
       "      <th>1816</th>\n",
       "      <td>2021-12-28 00:00:00</td>\n",
       "      <td>1892.0</td>\n",
       "      <td>27.0</td>\n",
       "      <td>Leather Jacket</td>\n",
       "      <td>1,119.99</td>\n",
       "      <td>Yes</td>\n",
       "    </tr>\n",
       "    <tr>\n",
       "      <th>1817</th>\n",
       "      <td>2022-12-25 00:00:00</td>\n",
       "      <td>7437.0</td>\n",
       "      <td>24.0</td>\n",
       "      <td>Cargo Shorts</td>\n",
       "      <td>22.99</td>\n",
       "      <td>No</td>\n",
       "    </tr>\n",
       "    <tr>\n",
       "      <th>1818</th>\n",
       "      <td>TOTAL</td>\n",
       "      <td>NaN</td>\n",
       "      <td>NaN</td>\n",
       "      <td>NaN</td>\n",
       "      <td>95545.33</td>\n",
       "      <td>NaN</td>\n",
       "    </tr>\n",
       "  </tbody>\n",
       "</table>\n",
       "</div>"
      ]
     },
     "execution_count": 29,
     "metadata": {},
     "output_type": "execute_result"
    }
   ],
   "execution_count": 29
  },
  {
   "metadata": {
    "ExecuteTime": {
     "end_time": "2025-09-12T09:10:34.425700Z",
     "start_time": "2025-09-12T09:10:34.273368Z"
    }
   },
   "cell_type": "code",
   "source": [
    "df_2 = pd.read_excel(\n",
    "    'store_data.xlsx',\n",
    "    sheet_name='purchases', #liest das sheet purchases ein\n",
    "    skiprows=1, #anzahl Zeilen überspringen\n",
    "    skipfooter=1, #anzahl letzte Spalten überspringen\n",
    ")"
   ],
   "id": "d48f4646bda8b07d",
   "outputs": [],
   "execution_count": 31
  },
  {
   "metadata": {
    "ExecuteTime": {
     "end_time": "2025-09-12T09:10:36.854044Z",
     "start_time": "2025-09-12T09:10:36.841810Z"
    }
   },
   "cell_type": "code",
   "source": "df_2.tail()",
   "id": "11d17c3558bcae2",
   "outputs": [
    {
     "data": {
      "text/plain": [
       "     Date of Purchase  Customer ID  Product ID Product Description      Cost  \\\n",
       "1813       2020-01-26         1110          14        Plaid Shorts     22.99   \n",
       "1814       2022-11-02         9176          54        Casual Dress     69.99   \n",
       "1815       2023-05-12         8588          30          Maxi Skirt     39.99   \n",
       "1816       2021-12-28         1892          27      Leather Jacket  1,119.99   \n",
       "1817       2022-12-25         7437          24        Cargo Shorts     22.99   \n",
       "\n",
       "     Online  \n",
       "1813    Yes  \n",
       "1814     No  \n",
       "1815     No  \n",
       "1816    Yes  \n",
       "1817     No  "
      ],
      "text/html": [
       "<div>\n",
       "<style scoped>\n",
       "    .dataframe tbody tr th:only-of-type {\n",
       "        vertical-align: middle;\n",
       "    }\n",
       "\n",
       "    .dataframe tbody tr th {\n",
       "        vertical-align: top;\n",
       "    }\n",
       "\n",
       "    .dataframe thead th {\n",
       "        text-align: right;\n",
       "    }\n",
       "</style>\n",
       "<table border=\"1\" class=\"dataframe\">\n",
       "  <thead>\n",
       "    <tr style=\"text-align: right;\">\n",
       "      <th></th>\n",
       "      <th>Date of Purchase</th>\n",
       "      <th>Customer ID</th>\n",
       "      <th>Product ID</th>\n",
       "      <th>Product Description</th>\n",
       "      <th>Cost</th>\n",
       "      <th>Online</th>\n",
       "    </tr>\n",
       "  </thead>\n",
       "  <tbody>\n",
       "    <tr>\n",
       "      <th>1813</th>\n",
       "      <td>2020-01-26</td>\n",
       "      <td>1110</td>\n",
       "      <td>14</td>\n",
       "      <td>Plaid Shorts</td>\n",
       "      <td>22.99</td>\n",
       "      <td>Yes</td>\n",
       "    </tr>\n",
       "    <tr>\n",
       "      <th>1814</th>\n",
       "      <td>2022-11-02</td>\n",
       "      <td>9176</td>\n",
       "      <td>54</td>\n",
       "      <td>Casual Dress</td>\n",
       "      <td>69.99</td>\n",
       "      <td>No</td>\n",
       "    </tr>\n",
       "    <tr>\n",
       "      <th>1815</th>\n",
       "      <td>2023-05-12</td>\n",
       "      <td>8588</td>\n",
       "      <td>30</td>\n",
       "      <td>Maxi Skirt</td>\n",
       "      <td>39.99</td>\n",
       "      <td>No</td>\n",
       "    </tr>\n",
       "    <tr>\n",
       "      <th>1816</th>\n",
       "      <td>2021-12-28</td>\n",
       "      <td>1892</td>\n",
       "      <td>27</td>\n",
       "      <td>Leather Jacket</td>\n",
       "      <td>1,119.99</td>\n",
       "      <td>Yes</td>\n",
       "    </tr>\n",
       "    <tr>\n",
       "      <th>1817</th>\n",
       "      <td>2022-12-25</td>\n",
       "      <td>7437</td>\n",
       "      <td>24</td>\n",
       "      <td>Cargo Shorts</td>\n",
       "      <td>22.99</td>\n",
       "      <td>No</td>\n",
       "    </tr>\n",
       "  </tbody>\n",
       "</table>\n",
       "</div>"
      ]
     },
     "execution_count": 32,
     "metadata": {},
     "output_type": "execute_result"
    }
   ],
   "execution_count": 32
  },
  {
   "metadata": {},
   "cell_type": "markdown",
   "source": "# Grosse zahlen als zahlen erkennen und nicht als strings",
   "id": "df7aa9295b639614"
  },
  {
   "metadata": {
    "ExecuteTime": {
     "end_time": "2025-09-12T09:11:36.273868Z",
     "start_time": "2025-09-12T09:11:36.260982Z"
    }
   },
   "cell_type": "code",
   "source": "df_2.info()",
   "id": "3a7b5906976d86e4",
   "outputs": [
    {
     "name": "stdout",
     "output_type": "stream",
     "text": [
      "<class 'pandas.core.frame.DataFrame'>\n",
      "RangeIndex: 1818 entries, 0 to 1817\n",
      "Data columns (total 6 columns):\n",
      " #   Column               Non-Null Count  Dtype         \n",
      "---  ------               --------------  -----         \n",
      " 0   Date of Purchase     1818 non-null   datetime64[ns]\n",
      " 1   Customer ID          1818 non-null   int64         \n",
      " 2   Product ID           1818 non-null   int64         \n",
      " 3   Product Description  1818 non-null   object        \n",
      " 4   Cost                 1818 non-null   object        \n",
      " 5   Online               1818 non-null   object        \n",
      "dtypes: datetime64[ns](1), int64(2), object(3)\n",
      "memory usage: 85.3+ KB\n"
     ]
    }
   ],
   "execution_count": 33
  },
  {
   "metadata": {
    "ExecuteTime": {
     "end_time": "2025-09-12T09:14:08.773799Z",
     "start_time": "2025-09-12T09:14:08.592748Z"
    }
   },
   "cell_type": "code",
   "source": [
    "df_3 = pd.read_excel(\n",
    "    'store_data.xlsx',\n",
    "    sheet_name='purchases', #liest das sheet purchases ein\n",
    "    skiprows=1, #anzahl Zeilen überspringen\n",
    "    skipfooter=1, #anzahl letzte Spalten überspringen\n",
    "    thousands=',', #wenn Kommas in den Zahlen sind, soll pandas trotzdem als Zahl anstelle von string erkennen\n",
    ")"
   ],
   "id": "4a72e21c977c12ee",
   "outputs": [],
   "execution_count": 39
  },
  {
   "metadata": {
    "ExecuteTime": {
     "end_time": "2025-09-12T09:14:10.107049Z",
     "start_time": "2025-09-12T09:14:10.095695Z"
    }
   },
   "cell_type": "code",
   "source": "df_3.info()",
   "id": "f8289f5558c5dc7b",
   "outputs": [
    {
     "name": "stdout",
     "output_type": "stream",
     "text": [
      "<class 'pandas.core.frame.DataFrame'>\n",
      "RangeIndex: 1818 entries, 0 to 1817\n",
      "Data columns (total 6 columns):\n",
      " #   Column               Non-Null Count  Dtype         \n",
      "---  ------               --------------  -----         \n",
      " 0   Date of Purchase     1818 non-null   datetime64[ns]\n",
      " 1   Customer ID          1818 non-null   int64         \n",
      " 2   Product ID           1818 non-null   int64         \n",
      " 3   Product Description  1818 non-null   object        \n",
      " 4   Cost                 1818 non-null   float64       \n",
      " 5   Online               1818 non-null   object        \n",
      "dtypes: datetime64[ns](1), float64(1), int64(2), object(2)\n",
      "memory usage: 85.3+ KB\n"
     ]
    }
   ],
   "execution_count": 40
  },
  {
   "metadata": {
    "ExecuteTime": {
     "end_time": "2025-09-12T09:14:12.201648Z",
     "start_time": "2025-09-12T09:14:12.188621Z"
    }
   },
   "cell_type": "code",
   "source": "df_3.tail()",
   "id": "b758e5dd52823695",
   "outputs": [
    {
     "data": {
      "text/plain": [
       "     Date of Purchase  Customer ID  Product ID Product Description     Cost  \\\n",
       "1813       2020-01-26         1110          14        Plaid Shorts    22.99   \n",
       "1814       2022-11-02         9176          54        Casual Dress    69.99   \n",
       "1815       2023-05-12         8588          30          Maxi Skirt    39.99   \n",
       "1816       2021-12-28         1892          27      Leather Jacket  1119.99   \n",
       "1817       2022-12-25         7437          24        Cargo Shorts    22.99   \n",
       "\n",
       "     Online  \n",
       "1813    Yes  \n",
       "1814     No  \n",
       "1815     No  \n",
       "1816    Yes  \n",
       "1817     No  "
      ],
      "text/html": [
       "<div>\n",
       "<style scoped>\n",
       "    .dataframe tbody tr th:only-of-type {\n",
       "        vertical-align: middle;\n",
       "    }\n",
       "\n",
       "    .dataframe tbody tr th {\n",
       "        vertical-align: top;\n",
       "    }\n",
       "\n",
       "    .dataframe thead th {\n",
       "        text-align: right;\n",
       "    }\n",
       "</style>\n",
       "<table border=\"1\" class=\"dataframe\">\n",
       "  <thead>\n",
       "    <tr style=\"text-align: right;\">\n",
       "      <th></th>\n",
       "      <th>Date of Purchase</th>\n",
       "      <th>Customer ID</th>\n",
       "      <th>Product ID</th>\n",
       "      <th>Product Description</th>\n",
       "      <th>Cost</th>\n",
       "      <th>Online</th>\n",
       "    </tr>\n",
       "  </thead>\n",
       "  <tbody>\n",
       "    <tr>\n",
       "      <th>1813</th>\n",
       "      <td>2020-01-26</td>\n",
       "      <td>1110</td>\n",
       "      <td>14</td>\n",
       "      <td>Plaid Shorts</td>\n",
       "      <td>22.99</td>\n",
       "      <td>Yes</td>\n",
       "    </tr>\n",
       "    <tr>\n",
       "      <th>1814</th>\n",
       "      <td>2022-11-02</td>\n",
       "      <td>9176</td>\n",
       "      <td>54</td>\n",
       "      <td>Casual Dress</td>\n",
       "      <td>69.99</td>\n",
       "      <td>No</td>\n",
       "    </tr>\n",
       "    <tr>\n",
       "      <th>1815</th>\n",
       "      <td>2023-05-12</td>\n",
       "      <td>8588</td>\n",
       "      <td>30</td>\n",
       "      <td>Maxi Skirt</td>\n",
       "      <td>39.99</td>\n",
       "      <td>No</td>\n",
       "    </tr>\n",
       "    <tr>\n",
       "      <th>1816</th>\n",
       "      <td>2021-12-28</td>\n",
       "      <td>1892</td>\n",
       "      <td>27</td>\n",
       "      <td>Leather Jacket</td>\n",
       "      <td>1119.99</td>\n",
       "      <td>Yes</td>\n",
       "    </tr>\n",
       "    <tr>\n",
       "      <th>1817</th>\n",
       "      <td>2022-12-25</td>\n",
       "      <td>7437</td>\n",
       "      <td>24</td>\n",
       "      <td>Cargo Shorts</td>\n",
       "      <td>22.99</td>\n",
       "      <td>No</td>\n",
       "    </tr>\n",
       "  </tbody>\n",
       "</table>\n",
       "</div>"
      ]
     },
     "execution_count": 41,
     "metadata": {},
     "output_type": "execute_result"
    }
   ],
   "execution_count": 41
  },
  {
   "metadata": {},
   "cell_type": "markdown",
   "source": "# Booleans nach true oder false ändern",
   "id": "d21639505672df1c"
  },
  {
   "metadata": {
    "ExecuteTime": {
     "end_time": "2025-09-12T09:15:27.615992Z",
     "start_time": "2025-09-12T09:15:27.607108Z"
    }
   },
   "cell_type": "code",
   "source": "df_3.Online.value_counts()",
   "id": "e3eed460cff3b820",
   "outputs": [
    {
     "data": {
      "text/plain": [
       "Online\n",
       "No     918\n",
       "Yes    900\n",
       "Name: count, dtype: int64"
      ]
     },
     "execution_count": 42,
     "metadata": {},
     "output_type": "execute_result"
    }
   ],
   "execution_count": 42
  },
  {
   "metadata": {
    "ExecuteTime": {
     "end_time": "2025-09-12T09:16:29.733387Z",
     "start_time": "2025-09-12T09:16:29.615176Z"
    }
   },
   "cell_type": "code",
   "source": [
    "df_4 = pd.read_excel(\n",
    "    'store_data.xlsx',\n",
    "    sheet_name='purchases', #liest das sheet purchases ein\n",
    "    skiprows=1, #anzahl Zeilen überspringen\n",
    "    skipfooter=1, #anzahl letzte Spalten überspringen\n",
    "    thousands=',', #wenn Kommas in den Zahlen sind, soll pandas trotzdem als Zahl anstelle von string erkennen\n",
    "    true_values=['Yes'],\n",
    "    false_values=['No'], #macht booleans daraus um es besser zu zählen\n",
    ")"
   ],
   "id": "cc760dc7e8a31370",
   "outputs": [],
   "execution_count": 43
  },
  {
   "metadata": {
    "ExecuteTime": {
     "end_time": "2025-09-12T09:16:43.463550Z",
     "start_time": "2025-09-12T09:16:43.453858Z"
    }
   },
   "cell_type": "code",
   "source": "df_4.head()",
   "id": "6d4988c6ab8e4bc2",
   "outputs": [
    {
     "data": {
      "text/plain": [
       "  Date of Purchase  Customer ID  Product ID Product Description   Cost  Online\n",
       "0       2021-10-11         4576          11        Gray Sweater  59.99   False\n",
       "1       2020-11-13         9488          32       Running Shoes  49.99    True\n",
       "2       2020-08-20         7265           3          Blue Jeans  49.99    True\n",
       "3       2021-04-07         8555          39          Polo Shirt  29.99   False\n",
       "4       2022-01-10         7023          44          Sweatshirt  49.99   False"
      ],
      "text/html": [
       "<div>\n",
       "<style scoped>\n",
       "    .dataframe tbody tr th:only-of-type {\n",
       "        vertical-align: middle;\n",
       "    }\n",
       "\n",
       "    .dataframe tbody tr th {\n",
       "        vertical-align: top;\n",
       "    }\n",
       "\n",
       "    .dataframe thead th {\n",
       "        text-align: right;\n",
       "    }\n",
       "</style>\n",
       "<table border=\"1\" class=\"dataframe\">\n",
       "  <thead>\n",
       "    <tr style=\"text-align: right;\">\n",
       "      <th></th>\n",
       "      <th>Date of Purchase</th>\n",
       "      <th>Customer ID</th>\n",
       "      <th>Product ID</th>\n",
       "      <th>Product Description</th>\n",
       "      <th>Cost</th>\n",
       "      <th>Online</th>\n",
       "    </tr>\n",
       "  </thead>\n",
       "  <tbody>\n",
       "    <tr>\n",
       "      <th>0</th>\n",
       "      <td>2021-10-11</td>\n",
       "      <td>4576</td>\n",
       "      <td>11</td>\n",
       "      <td>Gray Sweater</td>\n",
       "      <td>59.99</td>\n",
       "      <td>False</td>\n",
       "    </tr>\n",
       "    <tr>\n",
       "      <th>1</th>\n",
       "      <td>2020-11-13</td>\n",
       "      <td>9488</td>\n",
       "      <td>32</td>\n",
       "      <td>Running Shoes</td>\n",
       "      <td>49.99</td>\n",
       "      <td>True</td>\n",
       "    </tr>\n",
       "    <tr>\n",
       "      <th>2</th>\n",
       "      <td>2020-08-20</td>\n",
       "      <td>7265</td>\n",
       "      <td>3</td>\n",
       "      <td>Blue Jeans</td>\n",
       "      <td>49.99</td>\n",
       "      <td>True</td>\n",
       "    </tr>\n",
       "    <tr>\n",
       "      <th>3</th>\n",
       "      <td>2021-04-07</td>\n",
       "      <td>8555</td>\n",
       "      <td>39</td>\n",
       "      <td>Polo Shirt</td>\n",
       "      <td>29.99</td>\n",
       "      <td>False</td>\n",
       "    </tr>\n",
       "    <tr>\n",
       "      <th>4</th>\n",
       "      <td>2022-01-10</td>\n",
       "      <td>7023</td>\n",
       "      <td>44</td>\n",
       "      <td>Sweatshirt</td>\n",
       "      <td>49.99</td>\n",
       "      <td>False</td>\n",
       "    </tr>\n",
       "  </tbody>\n",
       "</table>\n",
       "</div>"
      ]
     },
     "execution_count": 44,
     "metadata": {},
     "output_type": "execute_result"
    }
   ],
   "execution_count": 44
  },
  {
   "metadata": {
    "ExecuteTime": {
     "end_time": "2025-09-12T09:16:57.815723Z",
     "start_time": "2025-09-12T09:16:57.807196Z"
    }
   },
   "cell_type": "code",
   "source": "df_4.Online.value_counts()",
   "id": "7f274c14350f7cd3",
   "outputs": [
    {
     "data": {
      "text/plain": [
       "Online\n",
       "False    918\n",
       "True     900\n",
       "Name: count, dtype: int64"
      ]
     },
     "execution_count": 45,
     "metadata": {},
     "output_type": "execute_result"
    }
   ],
   "execution_count": 45
  },
  {
   "metadata": {
    "ExecuteTime": {
     "end_time": "2025-09-12T09:17:09.806455Z",
     "start_time": "2025-09-12T09:17:09.799574Z"
    }
   },
   "cell_type": "code",
   "source": "df_4.Online.sum()",
   "id": "a77034aa462b5d65",
   "outputs": [
    {
     "data": {
      "text/plain": [
       "np.int64(900)"
      ]
     },
     "execution_count": 46,
     "metadata": {},
     "output_type": "execute_result"
    }
   ],
   "execution_count": 46
  }
 ],
 "metadata": {
  "kernelspec": {
   "display_name": "Python 3",
   "language": "python",
   "name": "python3"
  },
  "language_info": {
   "codemirror_mode": {
    "name": "ipython",
    "version": 2
   },
   "file_extension": ".py",
   "mimetype": "text/x-python",
   "name": "python",
   "nbconvert_exporter": "python",
   "pygments_lexer": "ipython2",
   "version": "2.7.6"
  }
 },
 "nbformat": 4,
 "nbformat_minor": 5
}
