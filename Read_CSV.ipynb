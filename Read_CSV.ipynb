{
 "cells": [
  {
   "metadata": {},
   "cell_type": "markdown",
   "source": "# Read CSV normal",
   "id": "8a77807f92f26ee"
  },
  {
   "metadata": {
    "ExecuteTime": {
     "end_time": "2025-09-12T08:38:44.153642Z",
     "start_time": "2025-09-12T08:38:44.148964Z"
    }
   },
   "cell_type": "code",
   "source": "import pandas as pd",
   "id": "fbc121e30a2defb3",
   "outputs": [],
   "execution_count": 9
  },
  {
   "metadata": {
    "ExecuteTime": {
     "end_time": "2025-09-12T08:38:45.540043Z",
     "start_time": "2025-09-12T08:38:45.523527Z"
    }
   },
   "cell_type": "code",
   "source": "df = pd.read_csv(\"customers.csv\")",
   "id": "87be3882c3a7b09",
   "outputs": [],
   "execution_count": 10
  },
  {
   "metadata": {
    "ExecuteTime": {
     "end_time": "2025-09-12T08:39:02.469305Z",
     "start_time": "2025-09-12T08:39:02.443723Z"
    }
   },
   "cell_type": "code",
   "source": "df.head()",
   "id": "e08e09ef702586f8",
   "outputs": [
    {
     "data": {
      "text/plain": [
       "     ID First Name Last Name         Phone          LTV\n",
       "0  4576     Sophia    Walker  602-310-9331     $496.87 \n",
       "1  9488     Evelyn    Harris  171-363-6978  $38,424.41 \n",
       "2  7265      Lucas    Foster  139-658-8905  $14,413.64 \n",
       "3  8555     Elijah     Jones  538-241-9868  $13,440.49 \n",
       "4  7023      Mason    Taylor  937-595-5837   $1,777.37 "
      ],
      "text/html": [
       "<div>\n",
       "<style scoped>\n",
       "    .dataframe tbody tr th:only-of-type {\n",
       "        vertical-align: middle;\n",
       "    }\n",
       "\n",
       "    .dataframe tbody tr th {\n",
       "        vertical-align: top;\n",
       "    }\n",
       "\n",
       "    .dataframe thead th {\n",
       "        text-align: right;\n",
       "    }\n",
       "</style>\n",
       "<table border=\"1\" class=\"dataframe\">\n",
       "  <thead>\n",
       "    <tr style=\"text-align: right;\">\n",
       "      <th></th>\n",
       "      <th>ID</th>\n",
       "      <th>First Name</th>\n",
       "      <th>Last Name</th>\n",
       "      <th>Phone</th>\n",
       "      <th>LTV</th>\n",
       "    </tr>\n",
       "  </thead>\n",
       "  <tbody>\n",
       "    <tr>\n",
       "      <th>0</th>\n",
       "      <td>4576</td>\n",
       "      <td>Sophia</td>\n",
       "      <td>Walker</td>\n",
       "      <td>602-310-9331</td>\n",
       "      <td>$496.87</td>\n",
       "    </tr>\n",
       "    <tr>\n",
       "      <th>1</th>\n",
       "      <td>9488</td>\n",
       "      <td>Evelyn</td>\n",
       "      <td>Harris</td>\n",
       "      <td>171-363-6978</td>\n",
       "      <td>$38,424.41</td>\n",
       "    </tr>\n",
       "    <tr>\n",
       "      <th>2</th>\n",
       "      <td>7265</td>\n",
       "      <td>Lucas</td>\n",
       "      <td>Foster</td>\n",
       "      <td>139-658-8905</td>\n",
       "      <td>$14,413.64</td>\n",
       "    </tr>\n",
       "    <tr>\n",
       "      <th>3</th>\n",
       "      <td>8555</td>\n",
       "      <td>Elijah</td>\n",
       "      <td>Jones</td>\n",
       "      <td>538-241-9868</td>\n",
       "      <td>$13,440.49</td>\n",
       "    </tr>\n",
       "    <tr>\n",
       "      <th>4</th>\n",
       "      <td>7023</td>\n",
       "      <td>Mason</td>\n",
       "      <td>Taylor</td>\n",
       "      <td>937-595-5837</td>\n",
       "      <td>$1,777.37</td>\n",
       "    </tr>\n",
       "  </tbody>\n",
       "</table>\n",
       "</div>"
      ]
     },
     "execution_count": 11,
     "metadata": {},
     "output_type": "execute_result"
    }
   ],
   "execution_count": 11
  },
  {
   "metadata": {},
   "cell_type": "markdown",
   "source": "# Read CSV form URL",
   "id": "49c4cfb9f47f94d4"
  },
  {
   "metadata": {
    "ExecuteTime": {
     "end_time": "2025-09-12T08:42:00.537745Z",
     "start_time": "2025-09-12T08:42:00.283574Z"
    }
   },
   "cell_type": "code",
   "source": "df_url = pd.read_csv(\"https://raw.githubusercontent.com/kimfetti/Videos/refs/heads/master/Pandas_Tips/data/customers.csv\")",
   "id": "e674c476d51659e6",
   "outputs": [],
   "execution_count": 13
  },
  {
   "metadata": {
    "ExecuteTime": {
     "end_time": "2025-09-12T08:42:12.329208Z",
     "start_time": "2025-09-12T08:42:12.318066Z"
    }
   },
   "cell_type": "code",
   "source": "df_url.head()",
   "id": "616c93dac81cc18f",
   "outputs": [
    {
     "data": {
      "text/plain": [
       "     ID First Name Last Name         Phone          LTV\n",
       "0  4576     Sophia    Walker  602-310-9331     $496.87 \n",
       "1  9488     Evelyn    Harris  171-363-6978  $38,424.41 \n",
       "2  7265      Lucas    Foster  139-658-8905  $14,413.64 \n",
       "3  8555     Elijah     Jones  538-241-9868  $13,440.49 \n",
       "4  7023      Mason    Taylor  937-595-5837   $1,777.37 "
      ],
      "text/html": [
       "<div>\n",
       "<style scoped>\n",
       "    .dataframe tbody tr th:only-of-type {\n",
       "        vertical-align: middle;\n",
       "    }\n",
       "\n",
       "    .dataframe tbody tr th {\n",
       "        vertical-align: top;\n",
       "    }\n",
       "\n",
       "    .dataframe thead th {\n",
       "        text-align: right;\n",
       "    }\n",
       "</style>\n",
       "<table border=\"1\" class=\"dataframe\">\n",
       "  <thead>\n",
       "    <tr style=\"text-align: right;\">\n",
       "      <th></th>\n",
       "      <th>ID</th>\n",
       "      <th>First Name</th>\n",
       "      <th>Last Name</th>\n",
       "      <th>Phone</th>\n",
       "      <th>LTV</th>\n",
       "    </tr>\n",
       "  </thead>\n",
       "  <tbody>\n",
       "    <tr>\n",
       "      <th>0</th>\n",
       "      <td>4576</td>\n",
       "      <td>Sophia</td>\n",
       "      <td>Walker</td>\n",
       "      <td>602-310-9331</td>\n",
       "      <td>$496.87</td>\n",
       "    </tr>\n",
       "    <tr>\n",
       "      <th>1</th>\n",
       "      <td>9488</td>\n",
       "      <td>Evelyn</td>\n",
       "      <td>Harris</td>\n",
       "      <td>171-363-6978</td>\n",
       "      <td>$38,424.41</td>\n",
       "    </tr>\n",
       "    <tr>\n",
       "      <th>2</th>\n",
       "      <td>7265</td>\n",
       "      <td>Lucas</td>\n",
       "      <td>Foster</td>\n",
       "      <td>139-658-8905</td>\n",
       "      <td>$14,413.64</td>\n",
       "    </tr>\n",
       "    <tr>\n",
       "      <th>3</th>\n",
       "      <td>8555</td>\n",
       "      <td>Elijah</td>\n",
       "      <td>Jones</td>\n",
       "      <td>538-241-9868</td>\n",
       "      <td>$13,440.49</td>\n",
       "    </tr>\n",
       "    <tr>\n",
       "      <th>4</th>\n",
       "      <td>7023</td>\n",
       "      <td>Mason</td>\n",
       "      <td>Taylor</td>\n",
       "      <td>937-595-5837</td>\n",
       "      <td>$1,777.37</td>\n",
       "    </tr>\n",
       "  </tbody>\n",
       "</table>\n",
       "</div>"
      ]
     },
     "execution_count": 14,
     "metadata": {},
     "output_type": "execute_result"
    }
   ],
   "execution_count": 14
  },
  {
   "metadata": {},
   "cell_type": "markdown",
   "source": "# ID Zeile als erste spalte anstelle von den 0,1,2...",
   "id": "3c1a64fea7c04fa7"
  },
  {
   "metadata": {
    "ExecuteTime": {
     "end_time": "2025-09-12T08:49:27.807912Z",
     "start_time": "2025-09-12T08:49:27.798525Z"
    }
   },
   "cell_type": "code",
   "source": [
    "df = pd.read_csv(\n",
    "    \"customers.csv\",\n",
    "    index_col=\"ID\", #index by ID\n",
    ")"
   ],
   "id": "32f72da4025e1f20",
   "outputs": [],
   "execution_count": 31
  },
  {
   "metadata": {
    "ExecuteTime": {
     "end_time": "2025-09-12T08:48:36.063171Z",
     "start_time": "2025-09-12T08:48:36.052557Z"
    }
   },
   "cell_type": "code",
   "source": "df.info()",
   "id": "5405cf6e30e63a29",
   "outputs": [
    {
     "name": "stdout",
     "output_type": "stream",
     "text": [
      "<class 'pandas.core.frame.DataFrame'>\n",
      "Index: 1000 entries, 4576 to 9062\n",
      "Data columns (total 4 columns):\n",
      " #   Column      Non-Null Count  Dtype \n",
      "---  ------      --------------  ----- \n",
      " 0   First Name  1000 non-null   object\n",
      " 1   Last Name   1000 non-null   object\n",
      " 2   Phone       968 non-null    object\n",
      " 3   LTV         986 non-null    object\n",
      "dtypes: object(4)\n",
      "memory usage: 39.1+ KB\n"
     ]
    }
   ],
   "execution_count": 28
  },
  {
   "metadata": {
    "ExecuteTime": {
     "end_time": "2025-09-12T08:49:55.420521Z",
     "start_time": "2025-09-12T08:49:55.412502Z"
    }
   },
   "cell_type": "code",
   "source": "df.Phone.value_counts()",
   "id": "c3581a7753825dbc",
   "outputs": [
    {
     "data": {
      "text/plain": [
       "Phone\n",
       "?               31\n",
       "677-742-5739     1\n",
       "412-368-2550     1\n",
       "602-310-9331     1\n",
       "171-363-6978     1\n",
       "                ..\n",
       "339-886-2967     1\n",
       "809-428-6034     1\n",
       "999-363-7716     1\n",
       "748-415-4613     1\n",
       "778-262-5262     1\n",
       "Name: count, Length: 938, dtype: int64"
      ]
     },
     "execution_count": 34,
     "metadata": {},
     "output_type": "execute_result"
    }
   ],
   "execution_count": 34
  },
  {
   "metadata": {
    "ExecuteTime": {
     "end_time": "2025-09-12T08:47:11.155547Z",
     "start_time": "2025-09-12T08:47:11.146019Z"
    }
   },
   "cell_type": "code",
   "source": "df.LTV.value_counts()",
   "id": "8bd6a0097d1bd53a",
   "outputs": [
    {
     "data": {
      "text/plain": [
       "LTV\n",
       "$14,686.60     1\n",
       "$496.87        1\n",
       "$38,424.41     1\n",
       "$14,413.64     1\n",
       "$13,440.49     1\n",
       "              ..\n",
       "$2,215.50      1\n",
       "$1,461.14      1\n",
       "$47,604.61     1\n",
       "$14,725.31     1\n",
       "$1,975.03      1\n",
       "Name: count, Length: 974, dtype: int64"
      ]
     },
     "execution_count": 23,
     "metadata": {},
     "output_type": "execute_result"
    }
   ],
   "execution_count": 23
  },
  {
   "metadata": {},
   "cell_type": "markdown",
   "source": "# Umgehen mit missing values für bessere übersicht",
   "id": "e6c79df1af7b6c56"
  },
  {
   "metadata": {
    "ExecuteTime": {
     "end_time": "2025-09-12T08:49:34.516596Z",
     "start_time": "2025-09-12T08:49:34.507942Z"
    }
   },
   "cell_type": "code",
   "source": [
    "df_1 = pd.read_csv(\n",
    "    \"customers.csv\",\n",
    "    index_col=\"ID\", #index by ID\n",
    "    na_values= \"?\", #treat ? characters as missings\n",
    ")"
   ],
   "id": "1774b400f65669ea",
   "outputs": [],
   "execution_count": 32
  },
  {
   "metadata": {
    "ExecuteTime": {
     "end_time": "2025-09-12T08:50:07.432099Z",
     "start_time": "2025-09-12T08:50:07.422726Z"
    }
   },
   "cell_type": "code",
   "source": "df_1.Phone.value_counts()",
   "id": "d1f0e42a310d927d",
   "outputs": [
    {
     "data": {
      "text/plain": [
       "Phone\n",
       "412-368-2550    1\n",
       "602-310-9331    1\n",
       "171-363-6978    1\n",
       "139-658-8905    1\n",
       "538-241-9868    1\n",
       "               ..\n",
       "452-664-5404    1\n",
       "676-675-3583    1\n",
       "785-583-7448    1\n",
       "677-742-5739    1\n",
       "870-961-7105    1\n",
       "Name: count, Length: 937, dtype: int64"
      ]
     },
     "execution_count": 35,
     "metadata": {},
     "output_type": "execute_result"
    }
   ],
   "execution_count": 35
  },
  {
   "metadata": {
    "ExecuteTime": {
     "end_time": "2025-09-12T08:50:17.934954Z",
     "start_time": "2025-09-12T08:50:17.926494Z"
    }
   },
   "cell_type": "code",
   "source": "df_1.LTV.value_counts()",
   "id": "377846d6d40c5ed6",
   "outputs": [
    {
     "data": {
      "text/plain": [
       "LTV\n",
       "$14,686.60     1\n",
       "$496.87        1\n",
       "$38,424.41     1\n",
       "$14,413.64     1\n",
       "$13,440.49     1\n",
       "              ..\n",
       "$2,215.50      1\n",
       "$1,461.14      1\n",
       "$47,604.61     1\n",
       "$14,725.31     1\n",
       "$1,975.03      1\n",
       "Name: count, Length: 974, dtype: int64"
      ]
     },
     "execution_count": 36,
     "metadata": {},
     "output_type": "execute_result"
    }
   ],
   "execution_count": 36
  },
  {
   "metadata": {
    "ExecuteTime": {
     "end_time": "2025-09-12T08:47:52.115864Z",
     "start_time": "2025-09-12T08:47:52.109117Z"
    }
   },
   "cell_type": "code",
   "source": "df.shape",
   "id": "12b412a08d0a84b",
   "outputs": [
    {
     "data": {
      "text/plain": [
       "(1000, 4)"
      ]
     },
     "execution_count": 24,
     "metadata": {},
     "output_type": "execute_result"
    }
   ],
   "execution_count": 24
  },
  {
   "metadata": {},
   "cell_type": "markdown",
   "source": "# Nicht den ganzen DF einlesen",
   "id": "60f73b40187f193a"
  },
  {
   "metadata": {
    "ExecuteTime": {
     "end_time": "2025-09-12T08:51:09.557805Z",
     "start_time": "2025-09-12T08:51:09.550038Z"
    }
   },
   "cell_type": "code",
   "source": [
    "df_100 = pd.read_csv(\n",
    "    \"customers.csv\",\n",
    "    index_col=\"ID\", #index by ID\n",
    "    na_values= \"?\", #treat ? characters as missing\n",
    "    nrows = 100\n",
    ")"
   ],
   "id": "3771cee3a60e3565",
   "outputs": [],
   "execution_count": 37
  },
  {
   "metadata": {
    "ExecuteTime": {
     "end_time": "2025-09-12T08:51:24.149003Z",
     "start_time": "2025-09-12T08:51:24.142318Z"
    }
   },
   "cell_type": "code",
   "source": "df_100.shape",
   "id": "87789dd14c3f5745",
   "outputs": [
    {
     "data": {
      "text/plain": [
       "(100, 4)"
      ]
     },
     "execution_count": 39,
     "metadata": {},
     "output_type": "execute_result"
    }
   ],
   "execution_count": 39
  }
 ],
 "metadata": {
  "kernelspec": {
   "display_name": "Python 3",
   "language": "python",
   "name": "python3"
  },
  "language_info": {
   "codemirror_mode": {
    "name": "ipython",
    "version": 2
   },
   "file_extension": ".py",
   "mimetype": "text/x-python",
   "name": "python",
   "nbconvert_exporter": "python",
   "pygments_lexer": "ipython2",
   "version": "2.7.6"
  }
 },
 "nbformat": 4,
 "nbformat_minor": 5
}
