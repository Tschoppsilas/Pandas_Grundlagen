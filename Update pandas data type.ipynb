{
 "cells": [
  {
   "cell_type": "code",
   "id": "initial_id",
   "metadata": {
    "collapsed": true,
    "ExecuteTime": {
     "end_time": "2025-09-12T09:46:02.950706Z",
     "start_time": "2025-09-12T09:46:02.946264Z"
    }
   },
   "source": "import pandas as pd",
   "outputs": [],
   "execution_count": 35
  },
  {
   "metadata": {},
   "cell_type": "markdown",
   "source": "# Create Data",
   "id": "2e84287e40e37216"
  },
  {
   "metadata": {
    "ExecuteTime": {
     "end_time": "2025-09-12T09:46:02.970232Z",
     "start_time": "2025-09-12T09:46:02.961739Z"
    }
   },
   "cell_type": "code",
   "source": [
    "data_dict = {\n",
    "    'cost': [25, 19, 88],\n",
    "    'sale_price': [20, 19, 59]\n",
    "}\n",
    "df = pd.DataFrame(data=data_dict)"
   ],
   "id": "7a9574f78c1af3c2",
   "outputs": [],
   "execution_count": 36
  },
  {
   "metadata": {
    "ExecuteTime": {
     "end_time": "2025-09-12T09:46:02.990477Z",
     "start_time": "2025-09-12T09:46:02.982564Z"
    }
   },
   "cell_type": "code",
   "source": "df.head()",
   "id": "1c57c0c3024366ee",
   "outputs": [
    {
     "data": {
      "text/plain": [
       "   cost  sale_price\n",
       "0    25          20\n",
       "1    19          19\n",
       "2    88          59"
      ],
      "text/html": [
       "<div>\n",
       "<style scoped>\n",
       "    .dataframe tbody tr th:only-of-type {\n",
       "        vertical-align: middle;\n",
       "    }\n",
       "\n",
       "    .dataframe tbody tr th {\n",
       "        vertical-align: top;\n",
       "    }\n",
       "\n",
       "    .dataframe thead th {\n",
       "        text-align: right;\n",
       "    }\n",
       "</style>\n",
       "<table border=\"1\" class=\"dataframe\">\n",
       "  <thead>\n",
       "    <tr style=\"text-align: right;\">\n",
       "      <th></th>\n",
       "      <th>cost</th>\n",
       "      <th>sale_price</th>\n",
       "    </tr>\n",
       "  </thead>\n",
       "  <tbody>\n",
       "    <tr>\n",
       "      <th>0</th>\n",
       "      <td>25</td>\n",
       "      <td>20</td>\n",
       "    </tr>\n",
       "    <tr>\n",
       "      <th>1</th>\n",
       "      <td>19</td>\n",
       "      <td>19</td>\n",
       "    </tr>\n",
       "    <tr>\n",
       "      <th>2</th>\n",
       "      <td>88</td>\n",
       "      <td>59</td>\n",
       "    </tr>\n",
       "  </tbody>\n",
       "</table>\n",
       "</div>"
      ]
     },
     "execution_count": 37,
     "metadata": {},
     "output_type": "execute_result"
    }
   ],
   "execution_count": 37
  },
  {
   "metadata": {},
   "cell_type": "markdown",
   "source": "# Datentypen?",
   "id": "e39904f736acf5fc"
  },
  {
   "metadata": {
    "ExecuteTime": {
     "end_time": "2025-09-12T09:46:03.040545Z",
     "start_time": "2025-09-12T09:46:03.036088Z"
    }
   },
   "cell_type": "code",
   "source": "df.dtypes",
   "id": "4b7a332b72a5bac",
   "outputs": [
    {
     "data": {
      "text/plain": [
       "cost          int64\n",
       "sale_price    int64\n",
       "dtype: object"
      ]
     },
     "execution_count": 38,
     "metadata": {},
     "output_type": "execute_result"
    }
   ],
   "execution_count": 38
  },
  {
   "metadata": {},
   "cell_type": "markdown",
   "source": "# Datentyp ändern",
   "id": "8ca596c5a81133d3"
  },
  {
   "metadata": {
    "ExecuteTime": {
     "end_time": "2025-09-12T09:46:03.204200Z",
     "start_time": "2025-09-12T09:46:03.195550Z"
    }
   },
   "cell_type": "code",
   "source": "df.astype('float')",
   "id": "689fb3eb559d76a9",
   "outputs": [
    {
     "data": {
      "text/plain": [
       "   cost  sale_price\n",
       "0  25.0        20.0\n",
       "1  19.0        19.0\n",
       "2  88.0        59.0"
      ],
      "text/html": [
       "<div>\n",
       "<style scoped>\n",
       "    .dataframe tbody tr th:only-of-type {\n",
       "        vertical-align: middle;\n",
       "    }\n",
       "\n",
       "    .dataframe tbody tr th {\n",
       "        vertical-align: top;\n",
       "    }\n",
       "\n",
       "    .dataframe thead th {\n",
       "        text-align: right;\n",
       "    }\n",
       "</style>\n",
       "<table border=\"1\" class=\"dataframe\">\n",
       "  <thead>\n",
       "    <tr style=\"text-align: right;\">\n",
       "      <th></th>\n",
       "      <th>cost</th>\n",
       "      <th>sale_price</th>\n",
       "    </tr>\n",
       "  </thead>\n",
       "  <tbody>\n",
       "    <tr>\n",
       "      <th>0</th>\n",
       "      <td>25.0</td>\n",
       "      <td>20.0</td>\n",
       "    </tr>\n",
       "    <tr>\n",
       "      <th>1</th>\n",
       "      <td>19.0</td>\n",
       "      <td>19.0</td>\n",
       "    </tr>\n",
       "    <tr>\n",
       "      <th>2</th>\n",
       "      <td>88.0</td>\n",
       "      <td>59.0</td>\n",
       "    </tr>\n",
       "  </tbody>\n",
       "</table>\n",
       "</div>"
      ]
     },
     "execution_count": 39,
     "metadata": {},
     "output_type": "execute_result"
    }
   ],
   "execution_count": 39
  },
  {
   "metadata": {
    "ExecuteTime": {
     "end_time": "2025-09-12T09:46:03.276209Z",
     "start_time": "2025-09-12T09:46:03.270770Z"
    }
   },
   "cell_type": "code",
   "source": "df.astype('float').dtypes",
   "id": "e7ee1352439408ea",
   "outputs": [
    {
     "data": {
      "text/plain": [
       "cost          float64\n",
       "sale_price    float64\n",
       "dtype: object"
      ]
     },
     "execution_count": 40,
     "metadata": {},
     "output_type": "execute_result"
    }
   ],
   "execution_count": 40
  },
  {
   "metadata": {},
   "cell_type": "markdown",
   "source": "# Nur eine spalte anpassen",
   "id": "a4e6336c7a604322"
  },
  {
   "metadata": {
    "ExecuteTime": {
     "end_time": "2025-09-12T09:46:03.429051Z",
     "start_time": "2025-09-12T09:46:03.425189Z"
    }
   },
   "cell_type": "code",
   "source": "df.sale_price.dtypes",
   "id": "bd450c75c032cbb8",
   "outputs": [
    {
     "data": {
      "text/plain": [
       "dtype('int64')"
      ]
     },
     "execution_count": 41,
     "metadata": {},
     "output_type": "execute_result"
    }
   ],
   "execution_count": 41
  },
  {
   "metadata": {
    "ExecuteTime": {
     "end_time": "2025-09-12T09:46:03.477227Z",
     "start_time": "2025-09-12T09:46:03.472555Z"
    }
   },
   "cell_type": "code",
   "source": "df.sale_price.astype(float)",
   "id": "a66f9fbed9a0ba6d",
   "outputs": [
    {
     "data": {
      "text/plain": [
       "0    20.0\n",
       "1    19.0\n",
       "2    59.0\n",
       "Name: sale_price, dtype: float64"
      ]
     },
     "execution_count": 42,
     "metadata": {},
     "output_type": "execute_result"
    }
   ],
   "execution_count": 42
  },
  {
   "metadata": {},
   "cell_type": "markdown",
   "source": "# Mit mapper",
   "id": "18e9979ebc98bc84"
  },
  {
   "metadata": {
    "ExecuteTime": {
     "end_time": "2025-09-12T09:46:03.531395Z",
     "start_time": "2025-09-12T09:46:03.522744Z"
    }
   },
   "cell_type": "code",
   "source": [
    "df.astype({\n",
    "    'sale_price': float,\n",
    "})"
   ],
   "id": "6681cc41a54b5b53",
   "outputs": [
    {
     "data": {
      "text/plain": [
       "   cost  sale_price\n",
       "0    25        20.0\n",
       "1    19        19.0\n",
       "2    88        59.0"
      ],
      "text/html": [
       "<div>\n",
       "<style scoped>\n",
       "    .dataframe tbody tr th:only-of-type {\n",
       "        vertical-align: middle;\n",
       "    }\n",
       "\n",
       "    .dataframe tbody tr th {\n",
       "        vertical-align: top;\n",
       "    }\n",
       "\n",
       "    .dataframe thead th {\n",
       "        text-align: right;\n",
       "    }\n",
       "</style>\n",
       "<table border=\"1\" class=\"dataframe\">\n",
       "  <thead>\n",
       "    <tr style=\"text-align: right;\">\n",
       "      <th></th>\n",
       "      <th>cost</th>\n",
       "      <th>sale_price</th>\n",
       "    </tr>\n",
       "  </thead>\n",
       "  <tbody>\n",
       "    <tr>\n",
       "      <th>0</th>\n",
       "      <td>25</td>\n",
       "      <td>20.0</td>\n",
       "    </tr>\n",
       "    <tr>\n",
       "      <th>1</th>\n",
       "      <td>19</td>\n",
       "      <td>19.0</td>\n",
       "    </tr>\n",
       "    <tr>\n",
       "      <th>2</th>\n",
       "      <td>88</td>\n",
       "      <td>59.0</td>\n",
       "    </tr>\n",
       "  </tbody>\n",
       "</table>\n",
       "</div>"
      ]
     },
     "execution_count": 43,
     "metadata": {},
     "output_type": "execute_result"
    }
   ],
   "execution_count": 43
  },
  {
   "metadata": {
    "ExecuteTime": {
     "end_time": "2025-09-12T09:46:03.692813Z",
     "start_time": "2025-09-12T09:46:03.687787Z"
    }
   },
   "cell_type": "code",
   "source": [
    "df['discount'] = ['True', 'False', 'True']\n",
    "df['in_stock'] = [0,1,1]"
   ],
   "id": "82f2cb56ffc012c0",
   "outputs": [],
   "execution_count": 44
  },
  {
   "metadata": {
    "ExecuteTime": {
     "end_time": "2025-09-12T09:46:03.726327Z",
     "start_time": "2025-09-12T09:46:03.720041Z"
    }
   },
   "cell_type": "code",
   "source": "df.dtypes",
   "id": "e640d01634e6e76e",
   "outputs": [
    {
     "data": {
      "text/plain": [
       "cost           int64\n",
       "sale_price     int64\n",
       "discount      object\n",
       "in_stock       int64\n",
       "dtype: object"
      ]
     },
     "execution_count": 45,
     "metadata": {},
     "output_type": "execute_result"
    }
   ],
   "execution_count": 45
  },
  {
   "metadata": {
    "ExecuteTime": {
     "end_time": "2025-09-12T09:46:03.787396Z",
     "start_time": "2025-09-12T09:46:03.776090Z"
    }
   },
   "cell_type": "code",
   "source": [
    "df.astype({\n",
    "    'sale_price': float,\n",
    "    'discount': bool,\n",
    "    'in_stock': bool,\n",
    "})"
   ],
   "id": "1c7cce05067ec260",
   "outputs": [
    {
     "data": {
      "text/plain": [
       "   cost  sale_price  discount  in_stock\n",
       "0    25        20.0      True     False\n",
       "1    19        19.0      True      True\n",
       "2    88        59.0      True      True"
      ],
      "text/html": [
       "<div>\n",
       "<style scoped>\n",
       "    .dataframe tbody tr th:only-of-type {\n",
       "        vertical-align: middle;\n",
       "    }\n",
       "\n",
       "    .dataframe tbody tr th {\n",
       "        vertical-align: top;\n",
       "    }\n",
       "\n",
       "    .dataframe thead th {\n",
       "        text-align: right;\n",
       "    }\n",
       "</style>\n",
       "<table border=\"1\" class=\"dataframe\">\n",
       "  <thead>\n",
       "    <tr style=\"text-align: right;\">\n",
       "      <th></th>\n",
       "      <th>cost</th>\n",
       "      <th>sale_price</th>\n",
       "      <th>discount</th>\n",
       "      <th>in_stock</th>\n",
       "    </tr>\n",
       "  </thead>\n",
       "  <tbody>\n",
       "    <tr>\n",
       "      <th>0</th>\n",
       "      <td>25</td>\n",
       "      <td>20.0</td>\n",
       "      <td>True</td>\n",
       "      <td>False</td>\n",
       "    </tr>\n",
       "    <tr>\n",
       "      <th>1</th>\n",
       "      <td>19</td>\n",
       "      <td>19.0</td>\n",
       "      <td>True</td>\n",
       "      <td>True</td>\n",
       "    </tr>\n",
       "    <tr>\n",
       "      <th>2</th>\n",
       "      <td>88</td>\n",
       "      <td>59.0</td>\n",
       "      <td>True</td>\n",
       "      <td>True</td>\n",
       "    </tr>\n",
       "  </tbody>\n",
       "</table>\n",
       "</div>"
      ]
     },
     "execution_count": 46,
     "metadata": {},
     "output_type": "execute_result"
    }
   ],
   "execution_count": 46
  },
  {
   "metadata": {
    "ExecuteTime": {
     "end_time": "2025-09-12T09:46:03.924934Z",
     "start_time": "2025-09-12T09:46:03.918824Z"
    }
   },
   "cell_type": "code",
   "source": "df",
   "id": "ec5cc4dd9c1e2eb3",
   "outputs": [
    {
     "data": {
      "text/plain": [
       "   cost  sale_price discount  in_stock\n",
       "0    25          20     True         0\n",
       "1    19          19    False         1\n",
       "2    88          59     True         1"
      ],
      "text/html": [
       "<div>\n",
       "<style scoped>\n",
       "    .dataframe tbody tr th:only-of-type {\n",
       "        vertical-align: middle;\n",
       "    }\n",
       "\n",
       "    .dataframe tbody tr th {\n",
       "        vertical-align: top;\n",
       "    }\n",
       "\n",
       "    .dataframe thead th {\n",
       "        text-align: right;\n",
       "    }\n",
       "</style>\n",
       "<table border=\"1\" class=\"dataframe\">\n",
       "  <thead>\n",
       "    <tr style=\"text-align: right;\">\n",
       "      <th></th>\n",
       "      <th>cost</th>\n",
       "      <th>sale_price</th>\n",
       "      <th>discount</th>\n",
       "      <th>in_stock</th>\n",
       "    </tr>\n",
       "  </thead>\n",
       "  <tbody>\n",
       "    <tr>\n",
       "      <th>0</th>\n",
       "      <td>25</td>\n",
       "      <td>20</td>\n",
       "      <td>True</td>\n",
       "      <td>0</td>\n",
       "    </tr>\n",
       "    <tr>\n",
       "      <th>1</th>\n",
       "      <td>19</td>\n",
       "      <td>19</td>\n",
       "      <td>False</td>\n",
       "      <td>1</td>\n",
       "    </tr>\n",
       "    <tr>\n",
       "      <th>2</th>\n",
       "      <td>88</td>\n",
       "      <td>59</td>\n",
       "      <td>True</td>\n",
       "      <td>1</td>\n",
       "    </tr>\n",
       "  </tbody>\n",
       "</table>\n",
       "</div>"
      ]
     },
     "execution_count": 47,
     "metadata": {},
     "output_type": "execute_result"
    }
   ],
   "execution_count": 47
  },
  {
   "metadata": {},
   "cell_type": "markdown",
   "source": "# Permanente changes",
   "id": "4bd7a431e45e650c"
  },
  {
   "metadata": {
    "ExecuteTime": {
     "end_time": "2025-09-12T09:46:04.002492Z",
     "start_time": "2025-09-12T09:46:03.995170Z"
    }
   },
   "cell_type": "code",
   "source": [
    "df = df.astype({\n",
    "    'sale_price': float,\n",
    "    'discount': bool,\n",
    "    'in_stock': bool,\n",
    "})\n",
    "df.dtypes"
   ],
   "id": "c2cb11f5a6548ca1",
   "outputs": [
    {
     "data": {
      "text/plain": [
       "cost            int64\n",
       "sale_price    float64\n",
       "discount         bool\n",
       "in_stock         bool\n",
       "dtype: object"
      ]
     },
     "execution_count": 48,
     "metadata": {},
     "output_type": "execute_result"
    }
   ],
   "execution_count": 48
  }
 ],
 "metadata": {
  "kernelspec": {
   "display_name": "Python 3",
   "language": "python",
   "name": "python3"
  },
  "language_info": {
   "codemirror_mode": {
    "name": "ipython",
    "version": 2
   },
   "file_extension": ".py",
   "mimetype": "text/x-python",
   "name": "python",
   "nbconvert_exporter": "python",
   "pygments_lexer": "ipython2",
   "version": "2.7.6"
  }
 },
 "nbformat": 4,
 "nbformat_minor": 5
}
